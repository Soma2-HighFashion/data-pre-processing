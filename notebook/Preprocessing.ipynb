{
 "cells": [
  {
   "cell_type": "code",
   "execution_count": 6,
   "metadata": {
    "collapsed": false
   },
   "outputs": [
    {
     "name": "stdout",
     "output_type": "stream",
     "text": [
      "The autoreload extension is already loaded. To reload it, use:\n",
      "  %reload_ext autoreload\n"
     ]
    },
    {
     "name": "stderr",
     "output_type": "stream",
     "text": [
      "/usr/local/lib/python2.7/dist-packages/matplotlib/__init__.py:1350: UserWarning:  This call to matplotlib.use() has no effect\n",
      "because the backend has already been chosen;\n",
      "matplotlib.use() must be called *before* pylab, matplotlib.pyplot,\n",
      "or matplotlib.backends is imported for the first time.\n",
      "\n",
      "  warnings.warn(_use_error_msg)\n"
     ]
    }
   ],
   "source": [
    "## import Matpolt with PyQt4 Backend\n",
    "import matplotlib\n",
    "matplotlib.use('Qt4Agg')\n",
    "import matplotlib.pyplot as plt\n",
    "\n",
    "# This is a bit of magic to make matplotlib figures appear inline in the notebook\n",
    "# rather than in a new window.\n",
    "%matplotlib inline\n",
    "plt.rcParams['figure.figsize'] = (10.0, 8.0) # set default size of plots\n",
    "plt.rcParams['image.interpolation'] = 'nearest'\n",
    "plt.rcParams['image.cmap'] = 'gray'\n",
    "\n",
    "# Some more magic so that the notebook will reload external python modules;\n",
    "# see http://stackoverflow.com/questions/1907993/autoreload-of-modules-in-ipython\n",
    "%load_ext autoreload\n",
    "%autoreload 2"
   ]
  },
  {
   "cell_type": "code",
   "execution_count": 9,
   "metadata": {
    "collapsed": false
   },
   "outputs": [],
   "source": [
    "caffe_root = 'crfasrnn/caffe-crfrnn/'\n",
    "import sys\n",
    "sys.path.insert(0, caffe_root + 'python')"
   ]
  },
  {
   "cell_type": "code",
   "execution_count": 10,
   "metadata": {
    "collapsed": false
   },
   "outputs": [],
   "source": [
    "import cPickle\n",
    "import logging\n",
    "import numpy as np\n",
    "import pandas as pd\n",
    "from PIL import Image as PILImage\n",
    "#import Image\n",
    "import cStringIO as StringIO\n",
    "import caffe\n",
    "\n",
    "from SimpleCV import *"
   ]
  },
  {
   "cell_type": "code",
   "execution_count": 12,
   "metadata": {
    "collapsed": false
   },
   "outputs": [],
   "source": [
    "# CRFasRNN Config\n",
    "MODEL_FILE = \"crfasrnn/python-scripts/TVG_CRFRNN_COCO_VOC.prototxt\"\n",
    "PRETRAINED = \"crfasrnn/python-scripts/TVG_CRFRNN_COCO_VOC.caffemodel\"\n",
    "\n",
    "net = caffe.Segmenter(MODEL_FILE, PRETRAINED)"
   ]
  },
  {
   "cell_type": "code",
   "execution_count": 21,
   "metadata": {
    "collapsed": false
   },
   "outputs": [],
   "source": [
    "def scale_128x128(image_path, dest):\n",
    "    scaled_image = Image(image_path).adaptiveScale((128, 128))\n",
    "    scaled_image_path = dest + \"128x128_\" + os.path.basename(image_path)\n",
    "    scaled_image.save(scaled_image_path)\n",
    "    return scaled_image_path\n",
    "\n",
    "def get_segmentation_position(image):\n",
    "    width = image.shape[0]\n",
    "    height = image.shape[1]\n",
    "    maxDim = max(width, height)\n",
    "    \n",
    "    image = PILImage.fromarray(np.uint8(image))\n",
    "    image = np.array(image)\n",
    "    \n",
    "    mean_vec = np.array([103.999, 116.779, 123.68], dtype=np.float32)\n",
    "    reshaped_mean_vec = mean_vec.reshape(1, 1, 3)\n",
    "    \n",
    "    im = image[:,:,::-1]\n",
    "    im = im - reshaped_mean_vec\n",
    "    \n",
    "    cur_h, cur_w, cur_c = im.shape\n",
    "    pad_h = 500 - cur_h\n",
    "    pad_w = 500 - cur_w\n",
    "    im = np.pad(im, pad_width=((0, pad_h), (0, pad_w), (0, 0)), mode='constant', constant_values=0)\n",
    "    \n",
    "    segmentation = net.predict([im])\n",
    "    segmentation2 = segmentation[0:cur_h, 0:cur_w]\n",
    "    \n",
    "    return segmentation2\n",
    "\n",
    "def white_background(image, segmentation):\n",
    "    height = segmentation.shape[0]\n",
    "    width = segmentation.shape[1]\n",
    "    \n",
    "    input_image = np.copy(image)\n",
    "\n",
    "    for j in xrange(height):\n",
    "        for k in xrange(width):\n",
    "            if segmentation[j][k] == 0:\n",
    "                input_image[j][k] = 255\n",
    "    \n",
    "    return input_image\n",
    "\n",
    "def black_background(image, segmentation):\n",
    "    height = segmentation.shape[0]\n",
    "    width = segmentation.shape[1]\n",
    "    \n",
    "    input_image = np.copy(image)\n",
    "\n",
    "    for j in xrange(height):\n",
    "        for k in xrange(width):\n",
    "            if segmentation[j][k] == 0:\n",
    "                input_image[j][k] = 0\n",
    "    \n",
    "    return input_image\n",
    "\n",
    "def show_image(image_array):\n",
    "    image = PILImage.fromarray(np.uint8(image_array))\n",
    "    plt.imshow(image)\n",
    "    \n",
    "def preprocessing(image_path, dest):\n",
    "    scale_path = scale_128x128(image_path, dest)\n",
    "    \n",
    "    input_image = 255 * caffe.io.load_image(scale_path)\n",
    "    segmentation = get_segmentation_position(input_image)\n",
    "    whited_back_image = white_background(input_image, segmentation)\n",
    "    blacked_back_image = black_background(input_image, segmentation)\n",
    "    \n",
    "    return whited_back_image"
   ]
  },
  {
   "cell_type": "code",
   "execution_count": 22,
   "metadata": {
    "collapsed": false
   },
   "outputs": [
    {
     "data": {
      "image/png": "[encoded data removed]",
      "text/plain": [
       "<matplotlib.figure.Figure at 0x7f1b6c0298d0>"
      ]
     },
     "metadata": {},
     "output_type": "display_data"
    }
   ],
   "source": [
    "test = \"test.jpg\"\n",
    "dest = \"data/\"\n",
    "segmentation, white, black = preprocessing(test, dest)"
   ]
  },
  {
   "cell_type": "code",
   "execution_count": null,
   "metadata": {
    "collapsed": false
   },
   "outputs": [],
   "source": [
    "white = PILImage.fromarray(np.uint8(white))\n",
    "white"
   ]
  },
  {
   "cell_type": "code",
   "execution_count": null,
   "metadata": {
    "collapsed": false
   },
   "outputs": [],
   "source": [
    "black = PILImage.fromarray(np.uint8(black))\n",
    "black"
   ]
  },
  {
   "cell_type": "code",
   "execution_count": 20,
   "metadata": {
    "collapsed": false
   },
   "outputs": [
    {
     "ename": "TypeError",
     "evalue": "expected string or buffer",
     "output_type": "error",
     "traceback": [
      "\u001b[1;31m---------------------------------------------------------------------------\u001b[0m",
      "\u001b[1;31mTypeError\u001b[0m                                 Traceback (most recent call last)",
      "\u001b[1;32m<ipython-input-20-8045910abda0>\u001b[0m in \u001b[0;36m<module>\u001b[1;34m()\u001b[0m\n\u001b[0;32m     28\u001b[0m             192,192,0]\n\u001b[0;32m     29\u001b[0m \u001b[1;33m\u001b[0m\u001b[0m\n\u001b[1;32m---> 30\u001b[1;33m \u001b[0msegmentation\u001b[0m \u001b[1;33m=\u001b[0m \u001b[0mPILImage\u001b[0m\u001b[1;33m.\u001b[0m\u001b[0mfromarray\u001b[0m\u001b[1;33m(\u001b[0m\u001b[0msegmentation\u001b[0m\u001b[1;33m)\u001b[0m\u001b[1;33m\u001b[0m\u001b[0m\n\u001b[0m\u001b[0;32m     31\u001b[0m \u001b[0msegmentation\u001b[0m\u001b[1;33m.\u001b[0m\u001b[0mputpalette\u001b[0m\u001b[1;33m(\u001b[0m\u001b[0mpallete\u001b[0m\u001b[1;33m)\u001b[0m\u001b[1;33m\u001b[0m\u001b[0m\n",
      "\u001b[1;32m/usr/local/lib/python2.7/dist-packages/PIL/Image.pyc\u001b[0m in \u001b[0;36mfromarray\u001b[1;34m(obj, mode)\u001b[0m\n\u001b[0;32m   2184\u001b[0m             \u001b[0mobj\u001b[0m \u001b[1;33m=\u001b[0m \u001b[0mobj\u001b[0m\u001b[1;33m.\u001b[0m\u001b[0mtostring\u001b[0m\u001b[1;33m(\u001b[0m\u001b[1;33m)\u001b[0m\u001b[1;33m\u001b[0m\u001b[0m\n\u001b[0;32m   2185\u001b[0m \u001b[1;33m\u001b[0m\u001b[0m\n\u001b[1;32m-> 2186\u001b[1;33m     \u001b[1;32mreturn\u001b[0m \u001b[0mfrombuffer\u001b[0m\u001b[1;33m(\u001b[0m\u001b[0mmode\u001b[0m\u001b[1;33m,\u001b[0m \u001b[0msize\u001b[0m\u001b[1;33m,\u001b[0m \u001b[0mobj\u001b[0m\u001b[1;33m,\u001b[0m \u001b[1;34m\"raw\"\u001b[0m\u001b[1;33m,\u001b[0m \u001b[0mrawmode\u001b[0m\u001b[1;33m,\u001b[0m \u001b[1;36m0\u001b[0m\u001b[1;33m,\u001b[0m \u001b[1;36m1\u001b[0m\u001b[1;33m)\u001b[0m\u001b[1;33m\u001b[0m\u001b[0m\n\u001b[0m\u001b[0;32m   2187\u001b[0m \u001b[1;33m\u001b[0m\u001b[0m\n\u001b[0;32m   2188\u001b[0m \u001b[1;33m\u001b[0m\u001b[0m\n",
      "\u001b[1;32m/usr/local/lib/python2.7/dist-packages/PIL/Image.pyc\u001b[0m in \u001b[0;36mfrombuffer\u001b[1;34m(mode, size, data, decoder_name, *args)\u001b[0m\n\u001b[0;32m   2129\u001b[0m             \u001b[0mim\u001b[0m \u001b[1;33m=\u001b[0m \u001b[0mnew\u001b[0m\u001b[1;33m(\u001b[0m\u001b[0mmode\u001b[0m\u001b[1;33m,\u001b[0m \u001b[1;33m(\u001b[0m\u001b[1;36m1\u001b[0m\u001b[1;33m,\u001b[0m \u001b[1;36m1\u001b[0m\u001b[1;33m)\u001b[0m\u001b[1;33m)\u001b[0m\u001b[1;33m\u001b[0m\u001b[0m\n\u001b[0;32m   2130\u001b[0m             im = im._new(\n\u001b[1;32m-> 2131\u001b[1;33m                 \u001b[0mcore\u001b[0m\u001b[1;33m.\u001b[0m\u001b[0mmap_buffer\u001b[0m\u001b[1;33m(\u001b[0m\u001b[0mdata\u001b[0m\u001b[1;33m,\u001b[0m \u001b[0msize\u001b[0m\u001b[1;33m,\u001b[0m \u001b[0mdecoder_name\u001b[0m\u001b[1;33m,\u001b[0m \u001b[0mNone\u001b[0m\u001b[1;33m,\u001b[0m \u001b[1;36m0\u001b[0m\u001b[1;33m,\u001b[0m \u001b[0margs\u001b[0m\u001b[1;33m)\u001b[0m\u001b[1;33m\u001b[0m\u001b[0m\n\u001b[0m\u001b[0;32m   2132\u001b[0m                 )\n\u001b[0;32m   2133\u001b[0m             \u001b[0mim\u001b[0m\u001b[1;33m.\u001b[0m\u001b[0mreadonly\u001b[0m \u001b[1;33m=\u001b[0m \u001b[1;36m1\u001b[0m\u001b[1;33m\u001b[0m\u001b[0m\n",
      "\u001b[1;31mTypeError\u001b[0m: expected string or buffer"
     ]
    }
   ],
   "source": [
    "pallete = [0,0,0,\n",
    "            128,0,0,\n",
    "            0,128,0,\n",
    "            128,128,0,\n",
    "            0,0,128,\n",
    "            128,0,128,\n",
    "            0,128,128,\n",
    "            128,128,128,\n",
    "            64,0,0,\n",
    "            192,0,0,\n",
    "            64,128,0,\n",
    "            192,128,0,\n",
    "            64,0,128,\n",
    "            192,0,128,\n",
    "            64,128,128,\n",
    "            192,128,128,\n",
    "            0,64,0,\n",
    "            128,64,0,\n",
    "            0,192,0,\n",
    "            128,192,0,\n",
    "            0,64,128,\n",
    "            128,64,128,\n",
    "            0,192,128,\n",
    "            128,192,128,\n",
    "            64,64,0,\n",
    "            192,64,0,\n",
    "            64,192,0,\n",
    "            192,192,0]\n",
    "\n",
    "segmentation = PILImage.fromarray(segmentation)\n",
    "segmentation.putpalette(pallete)"
   ]
  },
  {
   "cell_type": "code",
   "execution_count": null,
   "metadata": {
    "collapsed": true
   },
   "outputs": [],
   "source": []
  }
 ],
 "metadata": {
  "kernelspec": {
   "display_name": "Python 2",
   "language": "python",
   "name": "python2"
  },
  "language_info": {
   "codemirror_mode": {
    "name": "ipython",
    "version": 2
   },
   "file_extension": ".py",
   "mimetype": "text/x-python",
   "name": "python",
   "nbconvert_exporter": "python",
   "pygments_lexer": "ipython2",
   "version": "2.7.6"
  }
 },
 "nbformat": 4,
 "nbformat_minor": 0
}
