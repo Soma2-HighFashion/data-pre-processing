{
 "cells": [
  {
   "cell_type": "code",
   "execution_count": 1,
   "metadata": {
    "collapsed": true
   },
   "outputs": [],
   "source": [
    "import os\n",
    "from SimpleCV import *\n",
    "init_options_handler.enable_notebook()"
   ]
  },
  {
   "cell_type": "code",
   "execution_count": 2,
   "metadata": {
    "collapsed": false
   },
   "outputs": [],
   "source": [
    "def preprocessing(image, dest):\n",
    "    \n",
    "    diff = int((image.height - image.width)/2)\n",
    "    right_white_image = image.embiggen((image.width+diff, image.height), Color.BLACK, (0, 0))\n",
    "    square_image = right_white_image.embiggen((right_white_image.width+diff, right_white_image.height), Color.WHITE, (diff, 0))\n",
    "    left10 = right_white_image.embiggen((right_white_image.width+diff, right_white_image.height), Color.WHITE, (diff+10, 0))\n",
    "    right10 = right_white_image.embiggen((right_white_image.width+diff, right_white_image.height), Color.WHITE, (diff-10, 0))\n",
    "    \n",
    "    save_128x128(square_image, dest + \"_01.jpg\")\n",
    "    save_128x128(square_image.flipHorizontal(), dest + \"_02.jpg\")\n",
    "    save_128x128(left10, dest + \"_03.jpg\")\n",
    "    save_128x128(left10.flipHorizontal(), dest + \"_04.jpg\")\n",
    "    save_128x128(right10, dest + \"_05.jpg\")\n",
    "    save_128x128(right10.flipHorizontal(), dest + \"_06.jpg\")\n",
    "\n",
    "def save_128x128(image, dest):\n",
    "    image.adaptiveScale((128, 128)).save(dest)"
   ]
  },
  {
   "cell_type": "code",
   "execution_count": 3,
   "metadata": {
    "collapsed": true
   },
   "outputs": [],
   "source": [
    "img_data = os.listdir(\"./../img_data/\")\n",
    "src_dir = \"./../img_data/\"\n",
    "dest_dir = \"./../output/\""
   ]
  },
  {
   "cell_type": "code",
   "execution_count": 4,
   "metadata": {
    "collapsed": false
   },
   "outputs": [
    {
     "name": "stdout",
     "output_type": "stream",
     "text": [
      "tostring() has been removed. Please call tobytes() instead.\n",
      "tostring() has been removed. Please call tobytes() instead.\n"
     ]
    }
   ],
   "source": [
    "for i in xrange(len(img_data)): \n",
    "    try:\n",
    "        image_path = src_dir + img_data[i]\n",
    "        image = Image(image_path)\n",
    "        preprocessing(image, dest_dir+\"{:05d}\".format((i+1)))\n",
    "    except Exception as e:\n",
    "        print e"
   ]
  },
  {
   "cell_type": "code",
   "execution_count": null,
   "metadata": {
    "collapsed": true
   },
   "outputs": [],
   "source": []
  },
  {
   "cell_type": "code",
   "execution_count": null,
   "metadata": {
    "collapsed": false
   },
   "outputs": [],
   "source": [
    "image = Image(\"./../img_data/000095b8-b1be-4cfc-8527-8912d8e3157f.jpg\")\n",
    "\n",
    "diff = int((image.height - image.width)/2)\n",
    "right_white_image = image.embiggen((image.width+diff, image.height), Color.BLACK, (0, 0))\n",
    "square_image = right_white_image.embiggen((right_white_image.width+diff, right_white_image.height), Color.BLACK, (diff, 0))\n",
    "left10 = right_white_image.embiggen((right_white_image.width+diff, right_white_image.height), Color.BLACK, (diff+10, 0))\n",
    "right10 = right_white_image.embiggen((right_white_image.width+diff, right_white_image.height), Color.BLACK, (diff-10, 0))\n"
   ]
  },
  {
   "cell_type": "code",
   "execution_count": null,
   "metadata": {
    "collapsed": false
   },
   "outputs": [],
   "source": [
    "square_image.adaptiveScale((128, 128)).show()"
   ]
  },
  {
   "cell_type": "code",
   "execution_count": null,
   "metadata": {
    "collapsed": false
   },
   "outputs": [],
   "source": [
    "left10.adaptiveScale((128, 128)).show()"
   ]
  },
  {
   "cell_type": "code",
   "execution_count": null,
   "metadata": {
    "collapsed": false
   },
   "outputs": [],
   "source": [
    "right10.adaptiveScale((128, 128)).show()"
   ]
  },
  {
   "cell_type": "code",
   "execution_count": null,
   "metadata": {
    "collapsed": true
   },
   "outputs": [],
   "source": []
  },
  {
   "cell_type": "code",
   "execution_count": null,
   "metadata": {
    "collapsed": true
   },
   "outputs": [],
   "source": []
  }
 ],
 "metadata": {
  "kernelspec": {
   "display_name": "Python 2",
   "language": "python",
   "name": "python2"
  },
  "language_info": {
   "codemirror_mode": {
    "name": "ipython",
    "version": 2
   },
   "file_extension": ".py",
   "mimetype": "text/x-python",
   "name": "python",
   "nbconvert_exporter": "python",
   "pygments_lexer": "ipython2",
   "version": "2.7.6"
  }
 },
 "nbformat": 4,
 "nbformat_minor": 0
}
