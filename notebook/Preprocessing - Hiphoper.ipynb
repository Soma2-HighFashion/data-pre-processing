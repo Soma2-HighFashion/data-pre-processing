{
 "cells": [
  {
   "cell_type": "code",
   "execution_count": 1,
   "metadata": {
    "collapsed": false
   },
   "outputs": [],
   "source": [
    "## import Matpolt with PyQt4 Backend\n",
    "import matplotlib\n",
    "matplotlib.use('Qt4Agg')\n",
    "import matplotlib.pyplot as plt\n",
    "\n",
    "# This is a bit of magic to make matplotlib figures appear inline in the notebook\n",
    "# rather than in a new window.\n",
    "%matplotlib inline\n",
    "plt.rcParams['figure.figsize'] = (10.0, 8.0) # set default size of plots\n",
    "plt.rcParams['image.interpolation'] = 'nearest'\n",
    "plt.rcParams['image.cmap'] = 'gray'\n",
    "\n",
    "# Some more magic so that the notebook will reload external python modules;\n",
    "# see http://stackoverflow.com/questions/1907993/autoreload-of-modules-in-ipython\n",
    "%load_ext autoreload\n",
    "%autoreload 2"
   ]
  },
  {
   "cell_type": "code",
   "execution_count": 2,
   "metadata": {
    "collapsed": false
   },
   "outputs": [],
   "source": [
    "caffe_root = '../crfasrnn/caffe-crfrnn/'\n",
    "import sys\n",
    "sys.path.insert(0, caffe_root + 'python')"
   ]
  },
  {
   "cell_type": "code",
   "execution_count": 5,
   "metadata": {
    "collapsed": false
   },
   "outputs": [],
   "source": [
    "import cPickle\n",
    "import logging\n",
    "import numpy as np\n",
    "import pandas as pd\n",
    "from PIL import Image as PILImage\n",
    "#import Image\n",
    "import cStringIO as StringIO\n",
    "import caffe\n",
    "\n",
    "from SimpleCV import *"
   ]
  },
  {
   "cell_type": "code",
   "execution_count": 6,
   "metadata": {
    "collapsed": false
   },
   "outputs": [],
   "source": [
    "# CRFasRNN Config\n",
    "MODEL_FILE = \"../crfasrnn/python-scripts/TVG_CRFRNN_COCO_VOC.prototxt\"\n",
    "PRETRAINED = \"../crfasrnn/python-scripts/TVG_CRFRNN_COCO_VOC.caffemodel\"\n",
    "\n",
    "net = caffe.Segmenter(MODEL_FILE, PRETRAINED)"
   ]
  },
  {
   "cell_type": "code",
   "execution_count": 7,
   "metadata": {
    "collapsed": false
   },
   "outputs": [],
   "source": [
    "def scale_128x128(image_path, dest):\n",
    "    scaled_image = Image(image_path).adaptiveScale((128, 128))\n",
    "    scaled_image.save(dest)\n",
    "\n",
    "def get_segmentation_position(image):\n",
    "    width = image.shape[0]\n",
    "    height = image.shape[1]\n",
    "    maxDim = max(width, height)\n",
    "    \n",
    "    image = PILImage.fromarray(np.uint8(image))\n",
    "    image = np.array(image)\n",
    "    \n",
    "    mean_vec = np.array([103.999, 116.779, 123.68], dtype=np.float32)\n",
    "    reshaped_mean_vec = mean_vec.reshape(1, 1, 3)\n",
    "    \n",
    "    im = image[:,:,::-1]\n",
    "    im = im - reshaped_mean_vec\n",
    "    \n",
    "    cur_h, cur_w, cur_c = im.shape\n",
    "    pad_h = 500 - cur_h\n",
    "    pad_w = 500 - cur_w\n",
    "    im = np.pad(im, pad_width=((0, pad_h), (0, pad_w), (0, 0)), mode='constant', constant_values=0)\n",
    "    \n",
    "    segmentation = net.predict([im])\n",
    "    segmentation2 = segmentation[0:cur_h, 0:cur_w]\n",
    "    \n",
    "    return segmentation2\n",
    "\n",
    "def white_background(image, segmentation):\n",
    "    height = segmentation.shape[0]\n",
    "    width = segmentation.shape[1]\n",
    "    \n",
    "    input_image = np.copy(image)\n",
    "\n",
    "    for j in xrange(height):\n",
    "        for k in xrange(width):\n",
    "            if segmentation[j][k] == 0:\n",
    "                input_image[j][k] = 255\n",
    "    \n",
    "    return input_image\n",
    "\n",
    "def black_background(image, segmentation):\n",
    "    height = segmentation.shape[0]\n",
    "    width = segmentation.shape[1]\n",
    "    \n",
    "    input_image = np.copy(image)\n",
    "\n",
    "    for j in xrange(height):\n",
    "        for k in xrange(width):\n",
    "            if segmentation[j][k] == 0:\n",
    "                input_image[j][k] = 0\n",
    "    \n",
    "    return input_image\n",
    "\n",
    "def show_image(image_array):\n",
    "    image = PILImage.fromarray(np.uint8(image_array))\n",
    "    plt.imshow(image)\n",
    "    \n",
    "def preprocessing(image_path, dest):\n",
    "    dest_path = dest + \"128x128_\" + os.path.basename(image_path)\n",
    "    scale_128x128(image_path, dest_path)\n",
    "    \n",
    "    input_image = 255 * caffe.io.load_image(dest_path)\n",
    "    segmentation = get_segmentation_position(input_image)\n",
    "    whited_back_image = white_background(input_image, segmentation)\n",
    "    #blacked_back_image = black_background(input_image, segmentation)\n",
    "    \n",
    "    output_im = PILImage.fromarray(np.uint8(whited_back_image))\n",
    "    output_im.save(dest_path)"
   ]
  },
  {
   "cell_type": "code",
   "execution_count": 8,
   "metadata": {
    "collapsed": false
   },
   "outputs": [],
   "source": [
    "hiphoper_list = os.listdir(\"../../data/hiphoper/\")\n",
    "data_path = \"../../data/hiphoper/\"\n",
    "dest = \"../data/\"\n",
    "\n",
    "start_index = 1370\n",
    "for i in xrange(start_index, len(hiphoper_list)):\n",
    "    preprocessing(data_path+hiphoper_list[i], dest)"
   ]
  },
  {
   "cell_type": "code",
   "execution_count": 9,
   "metadata": {
    "collapsed": false
   },
   "outputs": [
    {
     "name": "stdout",
     "output_type": "stream",
     "text": [
      "Hiphoper pre-processing complete!\n"
     ]
    }
   ],
   "source": [
    "print \"Hiphoper pre-processing complete!\""
   ]
  },
  {
   "cell_type": "code",
   "execution_count": null,
   "metadata": {
    "collapsed": true
   },
   "outputs": [],
   "source": []
  }
 ],
 "metadata": {
  "kernelspec": {
   "display_name": "Python 2",
   "language": "python",
   "name": "python2"
  },
  "language_info": {
   "codemirror_mode": {
    "name": "ipython",
    "version": 2
   },
   "file_extension": ".py",
   "mimetype": "text/x-python",
   "name": "python",
   "nbconvert_exporter": "python",
   "pygments_lexer": "ipython2",
   "version": "2.7.6"
  }
 },
 "nbformat": 4,
 "nbformat_minor": 0
}
